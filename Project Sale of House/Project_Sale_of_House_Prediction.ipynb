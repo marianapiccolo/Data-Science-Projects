{
 "cells": [
  {
   "cell_type": "markdown",
   "metadata": {},
   "source": [
    "# Project Sale of House - Prediction"
   ]
  },
  {
   "cell_type": "markdown",
   "metadata": {},
   "source": [
    "### Objective\n",
    "\n",
    "Predict house values in Brazilian cities.\n",
    "\n",
    "Columns: <br>\n",
    "Rua -Street <br>\n",
    "Bairro - Neighborhood <br>\n",
    "Cidade - Town <br>\n",
    "Metragem - Footage <br>\n",
    "Quartos - Bedrooms <br>\n",
    "Banheiros - Bathrooms <br>\n",
    "Vagas - Car vacancies <br>\n",
    "Valor_anuncio - Ad value <br>\n",
    "Valor_m2 - square meter value <br>\n",
    "latitude <br>\n",
    "longitude <br>\n",
    "Situacao_setor - Industry situation: Urban situation (1, 2 and 3) or rural situation (4, 5, 6, 7 and 8)<br>\n",
    "V001 - Permanent private domiciles <br>\n",
    "V002 - Residents of permanent private households <br>\n",
    "V003 - Average number of residents of permanent private households <br>\n",
    "V004 - Variance in the number of residents of permanent private households <br>\n",
    "V005 - Average monthly income of residents <br>\n",
    "V006 - Variance in the average monthly income of residents <br>\n",
    "V007 - Average monthly income of residents with investment income <br> \n",
    "V008 - Monthly variance of residents with investment income <br>\n",
    "V009 - Monthly variation of residents over 10 years old with investment income "
   ]
  },
  {
   "cell_type": "code",
   "execution_count": 1,
   "metadata": {
    "colab": {
     "base_uri": "https://localhost:8080/",
     "height": 641
    },
    "id": "hXoTM3R9-Njv",
    "outputId": "6de15860-9990-4382-9998-16993924ce79"
   },
   "outputs": [
    {
     "data": {
      "text/html": [
       "<div>\n",
       "<style scoped>\n",
       "    .dataframe tbody tr th:only-of-type {\n",
       "        vertical-align: middle;\n",
       "    }\n",
       "\n",
       "    .dataframe tbody tr th {\n",
       "        vertical-align: top;\n",
       "    }\n",
       "\n",
       "    .dataframe thead th {\n",
       "        text-align: right;\n",
       "    }\n",
       "</style>\n",
       "<table border=\"1\" class=\"dataframe\">\n",
       "  <thead>\n",
       "    <tr style=\"text-align: right;\">\n",
       "      <th></th>\n",
       "      <th>Rua</th>\n",
       "      <th>Bairro</th>\n",
       "      <th>Cidade</th>\n",
       "      <th>Metragem</th>\n",
       "      <th>Quartos</th>\n",
       "      <th>Banheiros</th>\n",
       "      <th>Vagas</th>\n",
       "      <th>Valor_anuncio</th>\n",
       "      <th>Valor_m2</th>\n",
       "      <th>latitude</th>\n",
       "      <th>...</th>\n",
       "      <th>Situacao_setor</th>\n",
       "      <th>V001</th>\n",
       "      <th>V002</th>\n",
       "      <th>V003</th>\n",
       "      <th>V004</th>\n",
       "      <th>V005</th>\n",
       "      <th>V006</th>\n",
       "      <th>V007</th>\n",
       "      <th>V008</th>\n",
       "      <th>V009</th>\n",
       "    </tr>\n",
       "  </thead>\n",
       "  <tbody>\n",
       "    <tr>\n",
       "      <th>0</th>\n",
       "      <td>Avenida Itacira, 255</td>\n",
       "      <td>Planalto Paulista</td>\n",
       "      <td>São Paulo</td>\n",
       "      <td>1000</td>\n",
       "      <td>4</td>\n",
       "      <td>8</td>\n",
       "      <td>6</td>\n",
       "      <td>7000000.00</td>\n",
       "      <td>7000.00</td>\n",
       "      <td>-23.62</td>\n",
       "      <td>...</td>\n",
       "      <td>1.00</td>\n",
       "      <td>164.00</td>\n",
       "      <td>437.00</td>\n",
       "      <td>2.66</td>\n",
       "      <td>2.04</td>\n",
       "      <td>3158.96</td>\n",
       "      <td>22210644.93</td>\n",
       "      <td>5570.65</td>\n",
       "      <td>25770816.97</td>\n",
       "      <td>2096.19</td>\n",
       "    </tr>\n",
       "    <tr>\n",
       "      <th>1</th>\n",
       "      <td>Rua Aurelia Perez Alvarez, 42</td>\n",
       "      <td>Jardim dos Estados</td>\n",
       "      <td>São Paulo</td>\n",
       "      <td>496</td>\n",
       "      <td>4</td>\n",
       "      <td>4</td>\n",
       "      <td>4</td>\n",
       "      <td>3700000.00</td>\n",
       "      <td>7459.68</td>\n",
       "      <td>-23.64</td>\n",
       "      <td>...</td>\n",
       "      <td>1.00</td>\n",
       "      <td>136.00</td>\n",
       "      <td>425.00</td>\n",
       "      <td>3.13</td>\n",
       "      <td>1.96</td>\n",
       "      <td>7600.44</td>\n",
       "      <td>36778930.17</td>\n",
       "      <td>7890.53</td>\n",
       "      <td>35886906.64</td>\n",
       "      <td>4149.00</td>\n",
       "    </tr>\n",
       "    <tr>\n",
       "      <th>2</th>\n",
       "      <td>Rua Alba Valdez</td>\n",
       "      <td>Jardim Reimberg</td>\n",
       "      <td>São Paulo</td>\n",
       "      <td>125</td>\n",
       "      <td>4</td>\n",
       "      <td>3</td>\n",
       "      <td>2</td>\n",
       "      <td>380000.00</td>\n",
       "      <td>3040.00</td>\n",
       "      <td>-23.75</td>\n",
       "      <td>...</td>\n",
       "      <td>1.00</td>\n",
       "      <td>142.00</td>\n",
       "      <td>493.00</td>\n",
       "      <td>3.47</td>\n",
       "      <td>3.06</td>\n",
       "      <td>805.13</td>\n",
       "      <td>769188.78</td>\n",
       "      <td>1011.75</td>\n",
       "      <td>757433.42</td>\n",
       "      <td>518.77</td>\n",
       "    </tr>\n",
       "    <tr>\n",
       "      <th>3</th>\n",
       "      <td>Rua Tobias Barreto, 195</td>\n",
       "      <td>Mooca</td>\n",
       "      <td>São Paulo</td>\n",
       "      <td>100</td>\n",
       "      <td>3</td>\n",
       "      <td>2</td>\n",
       "      <td>2</td>\n",
       "      <td>540000.00</td>\n",
       "      <td>5400.00</td>\n",
       "      <td>-23.55</td>\n",
       "      <td>...</td>\n",
       "      <td>1.00</td>\n",
       "      <td>156.00</td>\n",
       "      <td>468.00</td>\n",
       "      <td>3.00</td>\n",
       "      <td>1.99</td>\n",
       "      <td>2338.05</td>\n",
       "      <td>7826370.15</td>\n",
       "      <td>2447.89</td>\n",
       "      <td>7925839.76</td>\n",
       "      <td>1543.29</td>\n",
       "    </tr>\n",
       "    <tr>\n",
       "      <th>4</th>\n",
       "      <td>Rua Graham Bell</td>\n",
       "      <td>Santo Amaro</td>\n",
       "      <td>São Paulo</td>\n",
       "      <td>440</td>\n",
       "      <td>4</td>\n",
       "      <td>4</td>\n",
       "      <td>6</td>\n",
       "      <td>1980000.00</td>\n",
       "      <td>4500.00</td>\n",
       "      <td>-23.59</td>\n",
       "      <td>...</td>\n",
       "      <td>1.00</td>\n",
       "      <td>107.00</td>\n",
       "      <td>376.00</td>\n",
       "      <td>3.51</td>\n",
       "      <td>2.31</td>\n",
       "      <td>1026.36</td>\n",
       "      <td>272168.67</td>\n",
       "      <td>1143.96</td>\n",
       "      <td>167733.64</td>\n",
       "      <td>735.67</td>\n",
       "    </tr>\n",
       "    <tr>\n",
       "      <th>...</th>\n",
       "      <td>...</td>\n",
       "      <td>...</td>\n",
       "      <td>...</td>\n",
       "      <td>...</td>\n",
       "      <td>...</td>\n",
       "      <td>...</td>\n",
       "      <td>...</td>\n",
       "      <td>...</td>\n",
       "      <td>...</td>\n",
       "      <td>...</td>\n",
       "      <td>...</td>\n",
       "      <td>...</td>\n",
       "      <td>...</td>\n",
       "      <td>...</td>\n",
       "      <td>...</td>\n",
       "      <td>...</td>\n",
       "      <td>...</td>\n",
       "      <td>...</td>\n",
       "      <td>...</td>\n",
       "      <td>...</td>\n",
       "      <td>...</td>\n",
       "    </tr>\n",
       "    <tr>\n",
       "      <th>5599</th>\n",
       "      <td>Rua Pedro Teixeira</td>\n",
       "      <td>Vila Olímpia</td>\n",
       "      <td>São Paulo</td>\n",
       "      <td>157</td>\n",
       "      <td>3</td>\n",
       "      <td>2</td>\n",
       "      <td>2</td>\n",
       "      <td>960000.00</td>\n",
       "      <td>6114.65</td>\n",
       "      <td>-23.60</td>\n",
       "      <td>...</td>\n",
       "      <td>1.00</td>\n",
       "      <td>177.00</td>\n",
       "      <td>384.00</td>\n",
       "      <td>2.17</td>\n",
       "      <td>1.27</td>\n",
       "      <td>5054.58</td>\n",
       "      <td>33245189.73</td>\n",
       "      <td>5231.93</td>\n",
       "      <td>33485189.78</td>\n",
       "      <td>3649.06</td>\n",
       "    </tr>\n",
       "    <tr>\n",
       "      <th>5600</th>\n",
       "      <td>Avenida Odila</td>\n",
       "      <td>Planalto Paulista</td>\n",
       "      <td>São Paulo</td>\n",
       "      <td>267</td>\n",
       "      <td>3</td>\n",
       "      <td>6</td>\n",
       "      <td>4</td>\n",
       "      <td>1500000.00</td>\n",
       "      <td>5617.98</td>\n",
       "      <td>-23.61</td>\n",
       "      <td>...</td>\n",
       "      <td>1.00</td>\n",
       "      <td>256.00</td>\n",
       "      <td>720.00</td>\n",
       "      <td>2.81</td>\n",
       "      <td>1.60</td>\n",
       "      <td>4249.33</td>\n",
       "      <td>24499871.44</td>\n",
       "      <td>5180.14</td>\n",
       "      <td>25047413.33</td>\n",
       "      <td>2618.76</td>\n",
       "    </tr>\n",
       "    <tr>\n",
       "      <th>5601</th>\n",
       "      <td>Rua Tapuçu</td>\n",
       "      <td>Vila Sofia</td>\n",
       "      <td>São Paulo</td>\n",
       "      <td>95</td>\n",
       "      <td>2</td>\n",
       "      <td>2</td>\n",
       "      <td>2</td>\n",
       "      <td>665000.00</td>\n",
       "      <td>7000.00</td>\n",
       "      <td>-23.66</td>\n",
       "      <td>...</td>\n",
       "      <td>1.00</td>\n",
       "      <td>150.00</td>\n",
       "      <td>448.00</td>\n",
       "      <td>2.99</td>\n",
       "      <td>1.81</td>\n",
       "      <td>2425.09</td>\n",
       "      <td>6878872.25</td>\n",
       "      <td>2543.80</td>\n",
       "      <td>6913867.79</td>\n",
       "      <td>1561.58</td>\n",
       "    </tr>\n",
       "    <tr>\n",
       "      <th>5603</th>\n",
       "      <td>Rua Estero Belaco</td>\n",
       "      <td>Vila da Saúde</td>\n",
       "      <td>São Paulo</td>\n",
       "      <td>205</td>\n",
       "      <td>3</td>\n",
       "      <td>3</td>\n",
       "      <td>6</td>\n",
       "      <td>1050000.00</td>\n",
       "      <td>5121.95</td>\n",
       "      <td>-23.62</td>\n",
       "      <td>...</td>\n",
       "      <td>1.00</td>\n",
       "      <td>400.00</td>\n",
       "      <td>1099.00</td>\n",
       "      <td>2.75</td>\n",
       "      <td>1.50</td>\n",
       "      <td>5650.20</td>\n",
       "      <td>20344622.14</td>\n",
       "      <td>5750.84</td>\n",
       "      <td>20127679.27</td>\n",
       "      <td>3459.68</td>\n",
       "    </tr>\n",
       "    <tr>\n",
       "      <th>5604</th>\n",
       "      <td>Rua Barão de Tramandaí, 0</td>\n",
       "      <td>Vila Alpina</td>\n",
       "      <td>São Paulo</td>\n",
       "      <td>122</td>\n",
       "      <td>3</td>\n",
       "      <td>2</td>\n",
       "      <td>2</td>\n",
       "      <td>270000.00</td>\n",
       "      <td>2213.11</td>\n",
       "      <td>-23.60</td>\n",
       "      <td>...</td>\n",
       "      <td>1.00</td>\n",
       "      <td>226.00</td>\n",
       "      <td>672.00</td>\n",
       "      <td>2.97</td>\n",
       "      <td>1.75</td>\n",
       "      <td>1244.10</td>\n",
       "      <td>1353001.23</td>\n",
       "      <td>1364.89</td>\n",
       "      <td>1319336.96</td>\n",
       "      <td>895.93</td>\n",
       "    </tr>\n",
       "  </tbody>\n",
       "</table>\n",
       "<p>5308 rows × 21 columns</p>\n",
       "</div>"
      ],
      "text/plain": [
       "                                 Rua              Bairro     Cidade  Metragem  \\\n",
       "0              Avenida Itacira, 255    Planalto Paulista  São Paulo      1000   \n",
       "1     Rua Aurelia Perez Alvarez, 42   Jardim dos Estados  São Paulo       496   \n",
       "2                    Rua Alba Valdez     Jardim Reimberg  São Paulo       125   \n",
       "3           Rua Tobias Barreto, 195                Mooca  São Paulo       100   \n",
       "4                    Rua Graham Bell         Santo Amaro  São Paulo       440   \n",
       "...                              ...                 ...        ...       ...   \n",
       "5599              Rua Pedro Teixeira        Vila Olímpia  São Paulo       157   \n",
       "5600                   Avenida Odila   Planalto Paulista  São Paulo       267   \n",
       "5601                      Rua Tapuçu          Vila Sofia  São Paulo        95   \n",
       "5603               Rua Estero Belaco       Vila da Saúde  São Paulo       205   \n",
       "5604      Rua Barão de Tramandaí, 0          Vila Alpina  São Paulo       122   \n",
       "\n",
       "      Quartos  Banheiros  Vagas  Valor_anuncio  Valor_m2  latitude  ...  \\\n",
       "0           4          8      6     7000000.00   7000.00    -23.62  ...   \n",
       "1           4          4      4     3700000.00   7459.68    -23.64  ...   \n",
       "2           4          3      2      380000.00   3040.00    -23.75  ...   \n",
       "3           3          2      2      540000.00   5400.00    -23.55  ...   \n",
       "4           4          4      6     1980000.00   4500.00    -23.59  ...   \n",
       "...       ...        ...    ...            ...       ...       ...  ...   \n",
       "5599        3          2      2      960000.00   6114.65    -23.60  ...   \n",
       "5600        3          6      4     1500000.00   5617.98    -23.61  ...   \n",
       "5601        2          2      2      665000.00   7000.00    -23.66  ...   \n",
       "5603        3          3      6     1050000.00   5121.95    -23.62  ...   \n",
       "5604        3          2      2      270000.00   2213.11    -23.60  ...   \n",
       "\n",
       "      Situacao_setor   V001    V002  V003  V004    V005        V006    V007  \\\n",
       "0               1.00 164.00  437.00  2.66  2.04 3158.96 22210644.93 5570.65   \n",
       "1               1.00 136.00  425.00  3.13  1.96 7600.44 36778930.17 7890.53   \n",
       "2               1.00 142.00  493.00  3.47  3.06  805.13   769188.78 1011.75   \n",
       "3               1.00 156.00  468.00  3.00  1.99 2338.05  7826370.15 2447.89   \n",
       "4               1.00 107.00  376.00  3.51  2.31 1026.36   272168.67 1143.96   \n",
       "...              ...    ...     ...   ...   ...     ...         ...     ...   \n",
       "5599            1.00 177.00  384.00  2.17  1.27 5054.58 33245189.73 5231.93   \n",
       "5600            1.00 256.00  720.00  2.81  1.60 4249.33 24499871.44 5180.14   \n",
       "5601            1.00 150.00  448.00  2.99  1.81 2425.09  6878872.25 2543.80   \n",
       "5603            1.00 400.00 1099.00  2.75  1.50 5650.20 20344622.14 5750.84   \n",
       "5604            1.00 226.00  672.00  2.97  1.75 1244.10  1353001.23 1364.89   \n",
       "\n",
       "            V008    V009  \n",
       "0    25770816.97 2096.19  \n",
       "1    35886906.64 4149.00  \n",
       "2      757433.42  518.77  \n",
       "3     7925839.76 1543.29  \n",
       "4      167733.64  735.67  \n",
       "...          ...     ...  \n",
       "5599 33485189.78 3649.06  \n",
       "5600 25047413.33 2618.76  \n",
       "5601  6913867.79 1561.58  \n",
       "5603 20127679.27 3459.68  \n",
       "5604  1319336.96  895.93  \n",
       "\n",
       "[5308 rows x 21 columns]"
      ]
     },
     "execution_count": 1,
     "metadata": {},
     "output_type": "execute_result"
    }
   ],
   "source": [
    "# Import Libraries and Databases\n",
    "\n",
    "import pandas as pd\n",
    "import seaborn as sns\n",
    "import matplotlib.pyplot as plt\n",
    "import numpy as np\n",
    "\n",
    "# 2 decimal places\n",
    "pd.set_option(\"display.precision\", 2)\n",
    "pd.set_option('display.float_format', lambda x: '%.2f' % x)\n",
    "\n",
    "# seaborn default configuration\n",
    "sns.set()\n",
    "\n",
    "census_sales_data = pd.read_csv(\"dados_vendas_censo.csv\")\n",
    "\n",
    "# Columns of interest.\n",
    "census_sales_data = census_sales_data[['Rua', 'Bairro', 'Cidade', 'Metragem', 'Quartos', 'Banheiros', 'Vagas',\n",
    "       'Valor_anuncio', 'Valor_m2', 'latitude', 'longitude', 'Situacao_setor', 'V001',\n",
    "       'V002', 'V003', 'V004', 'V005', 'V006', 'V007', 'V008', 'V009']].dropna() \n",
    "census_sales_data"
   ]
  },
  {
   "cell_type": "code",
   "execution_count": 2,
   "metadata": {
    "colab": {
     "base_uri": "https://localhost:8080/"
    },
    "id": "cQ0wPATP15_o",
    "outputId": "aa859cbc-3d7c-4f96-d5a2-979b303de657"
   },
   "outputs": [
    {
     "name": "stdout",
     "output_type": "stream",
     "text": [
      "<class 'pandas.core.frame.DataFrame'>\n",
      "Int64Index: 5308 entries, 0 to 5604\n",
      "Data columns (total 21 columns):\n",
      " #   Column          Non-Null Count  Dtype  \n",
      "---  ------          --------------  -----  \n",
      " 0   Rua             5308 non-null   object \n",
      " 1   Bairro          5308 non-null   object \n",
      " 2   Cidade          5308 non-null   object \n",
      " 3   Metragem        5308 non-null   int64  \n",
      " 4   Quartos         5308 non-null   int64  \n",
      " 5   Banheiros       5308 non-null   int64  \n",
      " 6   Vagas           5308 non-null   int64  \n",
      " 7   Valor_anuncio   5308 non-null   float64\n",
      " 8   Valor_m2        5308 non-null   float64\n",
      " 9   latitude        5308 non-null   float64\n",
      " 10  longitude       5308 non-null   float64\n",
      " 11  Situacao_setor  5308 non-null   float64\n",
      " 12  V001            5308 non-null   float64\n",
      " 13  V002            5308 non-null   float64\n",
      " 14  V003            5308 non-null   float64\n",
      " 15  V004            5308 non-null   float64\n",
      " 16  V005            5308 non-null   float64\n",
      " 17  V006            5308 non-null   float64\n",
      " 18  V007            5308 non-null   float64\n",
      " 19  V008            5308 non-null   float64\n",
      " 20  V009            5308 non-null   float64\n",
      "dtypes: float64(14), int64(4), object(3)\n",
      "memory usage: 912.3+ KB\n"
     ]
    }
   ],
   "source": [
    "census_sales_data.info()"
   ]
  },
  {
   "cell_type": "code",
   "execution_count": 3,
   "metadata": {
    "colab": {
     "base_uri": "https://localhost:8080/",
     "height": 477
    },
    "id": "fOB2EbMnxlAs",
    "outputId": "75875b4e-b2d7-4e70-815d-356757452165"
   },
   "outputs": [
    {
     "data": {
      "image/png": "[encoded data removed]",
      "text/plain": [
       "<Figure size 720x576 with 1 Axes>"
      ]
     },
     "metadata": {},
     "output_type": "display_data"
    }
   ],
   "source": [
    "plt.figure(figsize=(10, 8))\n",
    "ax = sns.boxplot(data = census_sales_data, y=\"Valor_anuncio\") # Ad value boxplot\n",
    "plt.show()\n",
    "\n",
    "# Varied distribution due to difference in property prices"
   ]
  },
  {
   "cell_type": "code",
   "execution_count": 5,
   "metadata": {
    "colab": {
     "base_uri": "https://localhost:8080/",
     "height": 366
    },
    "id": "n1dppxM52kiW",
    "outputId": "abad1c25-968a-4df1-ef20-9c3ca62fae6d"
   },
   "outputs": [
    {
     "data": {
      "text/html": [
       "<div>\n",
       "<style scoped>\n",
       "    .dataframe tbody tr th:only-of-type {\n",
       "        vertical-align: middle;\n",
       "    }\n",
       "\n",
       "    .dataframe tbody tr th {\n",
       "        vertical-align: top;\n",
       "    }\n",
       "\n",
       "    .dataframe thead th {\n",
       "        text-align: right;\n",
       "    }\n",
       "</style>\n",
       "<table border=\"1\" class=\"dataframe\">\n",
       "  <thead>\n",
       "    <tr style=\"text-align: right;\">\n",
       "      <th></th>\n",
       "      <th>Rua</th>\n",
       "      <th>Bairro</th>\n",
       "      <th>Cidade</th>\n",
       "      <th>Metragem</th>\n",
       "      <th>Quartos</th>\n",
       "      <th>Banheiros</th>\n",
       "      <th>Vagas</th>\n",
       "      <th>Valor_anuncio</th>\n",
       "      <th>Valor_m2</th>\n",
       "      <th>latitude</th>\n",
       "      <th>...</th>\n",
       "      <th>Situacao_setor</th>\n",
       "      <th>V001</th>\n",
       "      <th>V002</th>\n",
       "      <th>V003</th>\n",
       "      <th>V004</th>\n",
       "      <th>V005</th>\n",
       "      <th>V006</th>\n",
       "      <th>V007</th>\n",
       "      <th>V008</th>\n",
       "      <th>V009</th>\n",
       "    </tr>\n",
       "  </thead>\n",
       "  <tbody>\n",
       "    <tr>\n",
       "      <th>54</th>\n",
       "      <td>Rua Inglaterra</td>\n",
       "      <td>Jardim Europa</td>\n",
       "      <td>São Paulo</td>\n",
       "      <td>200</td>\n",
       "      <td>3</td>\n",
       "      <td>3</td>\n",
       "      <td>2</td>\n",
       "      <td>13000.00</td>\n",
       "      <td>65.00</td>\n",
       "      <td>-23.57</td>\n",
       "      <td>...</td>\n",
       "      <td>1.00</td>\n",
       "      <td>115.00</td>\n",
       "      <td>360.00</td>\n",
       "      <td>3.13</td>\n",
       "      <td>2.87</td>\n",
       "      <td>21545.71</td>\n",
       "      <td>1577883376.43</td>\n",
       "      <td>26081.65</td>\n",
       "      <td>1794039881.36</td>\n",
       "      <td>11050.67</td>\n",
       "    </tr>\n",
       "    <tr>\n",
       "      <th>89</th>\n",
       "      <td>Rua Inglaterra</td>\n",
       "      <td>Jardim Europa</td>\n",
       "      <td>São Paulo</td>\n",
       "      <td>756</td>\n",
       "      <td>5</td>\n",
       "      <td>4</td>\n",
       "      <td>10</td>\n",
       "      <td>37000000.00</td>\n",
       "      <td>48941.80</td>\n",
       "      <td>-23.57</td>\n",
       "      <td>...</td>\n",
       "      <td>1.00</td>\n",
       "      <td>115.00</td>\n",
       "      <td>360.00</td>\n",
       "      <td>3.13</td>\n",
       "      <td>2.87</td>\n",
       "      <td>21545.71</td>\n",
       "      <td>1577883376.43</td>\n",
       "      <td>26081.65</td>\n",
       "      <td>1794039881.36</td>\n",
       "      <td>11050.67</td>\n",
       "    </tr>\n",
       "    <tr>\n",
       "      <th>1032</th>\n",
       "      <td>Praça Nicolau Scarpa</td>\n",
       "      <td>Jardim América</td>\n",
       "      <td>São Paulo</td>\n",
       "      <td>1200</td>\n",
       "      <td>4</td>\n",
       "      <td>4</td>\n",
       "      <td>25</td>\n",
       "      <td>65000000.00</td>\n",
       "      <td>54166.67</td>\n",
       "      <td>-23.57</td>\n",
       "      <td>...</td>\n",
       "      <td>1.00</td>\n",
       "      <td>116.00</td>\n",
       "      <td>414.00</td>\n",
       "      <td>3.57</td>\n",
       "      <td>3.01</td>\n",
       "      <td>13131.61</td>\n",
       "      <td>508165993.72</td>\n",
       "      <td>14507.30</td>\n",
       "      <td>541764826.89</td>\n",
       "      <td>7934.91</td>\n",
       "    </tr>\n",
       "    <tr>\n",
       "      <th>3521</th>\n",
       "      <td>Rua Estados Unidos</td>\n",
       "      <td>Jardim América</td>\n",
       "      <td>São Paulo</td>\n",
       "      <td>1816</td>\n",
       "      <td>4</td>\n",
       "      <td>10</td>\n",
       "      <td>20</td>\n",
       "      <td>55000000.00</td>\n",
       "      <td>30286.34</td>\n",
       "      <td>-23.57</td>\n",
       "      <td>...</td>\n",
       "      <td>1.00</td>\n",
       "      <td>116.00</td>\n",
       "      <td>414.00</td>\n",
       "      <td>3.57</td>\n",
       "      <td>3.01</td>\n",
       "      <td>13131.61</td>\n",
       "      <td>508165993.72</td>\n",
       "      <td>14507.30</td>\n",
       "      <td>541764826.89</td>\n",
       "      <td>7934.91</td>\n",
       "    </tr>\n",
       "    <tr>\n",
       "      <th>3896</th>\n",
       "      <td>Rua Estados Unidos</td>\n",
       "      <td>Jardim América</td>\n",
       "      <td>São Paulo</td>\n",
       "      <td>1200</td>\n",
       "      <td>4</td>\n",
       "      <td>6</td>\n",
       "      <td>24</td>\n",
       "      <td>65000000.00</td>\n",
       "      <td>54166.67</td>\n",
       "      <td>-23.57</td>\n",
       "      <td>...</td>\n",
       "      <td>1.00</td>\n",
       "      <td>116.00</td>\n",
       "      <td>414.00</td>\n",
       "      <td>3.57</td>\n",
       "      <td>3.01</td>\n",
       "      <td>13131.61</td>\n",
       "      <td>508165993.72</td>\n",
       "      <td>14507.30</td>\n",
       "      <td>541764826.89</td>\n",
       "      <td>7934.91</td>\n",
       "    </tr>\n",
       "  </tbody>\n",
       "</table>\n",
       "<p>5 rows × 21 columns</p>\n",
       "</div>"
      ],
      "text/plain": [
       "                       Rua          Bairro     Cidade  Metragem  Quartos  \\\n",
       "54          Rua Inglaterra   Jardim Europa  São Paulo       200        3   \n",
       "89          Rua Inglaterra   Jardim Europa  São Paulo       756        5   \n",
       "1032  Praça Nicolau Scarpa  Jardim América  São Paulo      1200        4   \n",
       "3521    Rua Estados Unidos  Jardim América  São Paulo      1816        4   \n",
       "3896    Rua Estados Unidos  Jardim América  São Paulo      1200        4   \n",
       "\n",
       "      Banheiros  Vagas  Valor_anuncio  Valor_m2  latitude  ...  \\\n",
       "54            3      2       13000.00     65.00    -23.57  ...   \n",
       "89            4     10    37000000.00  48941.80    -23.57  ...   \n",
       "1032          4     25    65000000.00  54166.67    -23.57  ...   \n",
       "3521         10     20    55000000.00  30286.34    -23.57  ...   \n",
       "3896          6     24    65000000.00  54166.67    -23.57  ...   \n",
       "\n",
       "      Situacao_setor   V001   V002  V003  V004     V005          V006  \\\n",
       "54              1.00 115.00 360.00  3.13  2.87 21545.71 1577883376.43   \n",
       "89              1.00 115.00 360.00  3.13  2.87 21545.71 1577883376.43   \n",
       "1032            1.00 116.00 414.00  3.57  3.01 13131.61  508165993.72   \n",
       "3521            1.00 116.00 414.00  3.57  3.01 13131.61  508165993.72   \n",
       "3896            1.00 116.00 414.00  3.57  3.01 13131.61  508165993.72   \n",
       "\n",
       "         V007          V008     V009  \n",
       "54   26081.65 1794039881.36 11050.67  \n",
       "89   26081.65 1794039881.36 11050.67  \n",
       "1032 14507.30  541764826.89  7934.91  \n",
       "3521 14507.30  541764826.89  7934.91  \n",
       "3896 14507.30  541764826.89  7934.91  \n",
       "\n",
       "[5 rows x 21 columns]"
      ]
     },
     "execution_count": 5,
     "metadata": {},
     "output_type": "execute_result"
    }
   ],
   "source": [
    "# Outliers Ad value > 30000000 or Ad value < 100000\n",
    "census_sales_data.query(\"Valor_anuncio > 30000000 | Valor_anuncio < 100000\")"
   ]
  },
  {
   "cell_type": "code",
   "execution_count": 6,
   "metadata": {
    "colab": {
     "base_uri": "https://localhost:8080/",
     "height": 477
    },
    "id": "DTwoBAPM2v8N",
    "outputId": "9ac816db-f28d-4613-a616-2107218e9196"
   },
   "outputs": [
    {
     "data": {
      "image/png": "[encoded data removed]",
      "text/plain": [
       "<Figure size 720x576 with 1 Axes>"
      ]
     },
     "metadata": {},
     "output_type": "display_data"
    }
   ],
   "source": [
    "# Remove outliers.\n",
    "census_sales_data.drop(census_sales_data.query(\"Valor_anuncio > 30000000 | Valor_anuncio < 100000\").index, inplace = True)\n",
    "plt.figure(figsize=(10, 8))\n",
    "ax = sns.boxplot(data = census_sales_data, y=\"Valor_anuncio\")\n",
    "plt.show()"
   ]
  },
  {
   "cell_type": "code",
   "execution_count": 8,
   "metadata": {
    "colab": {
     "base_uri": "https://localhost:8080/",
     "height": 629
    },
    "id": "XCx_egYZ5ehM",
    "outputId": "3ab8ae08-06bf-42b6-c0d3-e819868877e7"
   },
   "outputs": [
    {
     "data": {
      "text/plain": [
       "<AxesSubplot:xlabel='Valor_anuncio', ylabel='Valor_m2'>"
      ]
     },
     "execution_count": 8,
     "metadata": {},
     "output_type": "execute_result"
    },
    {
     "data": {
      "image/png": "[encoded data removed]",
      "text/plain": [
       "<Figure size 720x720 with 1 Axes>"
      ]
     },
     "metadata": {},
     "output_type": "display_data"
    }
   ],
   "source": [
    "# Ad value X Square meter\n",
    "plt.figure(figsize=(10, 10))\n",
    "sns.scatterplot(data = census_sales_data, x=\"Valor_anuncio\", y=\"Valor_m2\")"
   ]
  },
  {
   "cell_type": "code",
   "execution_count": 9,
   "metadata": {
    "colab": {
     "base_uri": "https://localhost:8080/",
     "height": 769
    },
    "id": "vDuH93m5xjXi",
    "outputId": "8323e710-c249-446b-c5eb-db836806a493"
   },
   "outputs": [
    {
     "data": {
      "text/html": [
       "<div>\n",
       "<style scoped>\n",
       "    .dataframe tbody tr th:only-of-type {\n",
       "        vertical-align: middle;\n",
       "    }\n",
       "\n",
       "    .dataframe tbody tr th {\n",
       "        vertical-align: top;\n",
       "    }\n",
       "\n",
       "    .dataframe thead th {\n",
       "        text-align: right;\n",
       "    }\n",
       "</style>\n",
       "<table border=\"1\" class=\"dataframe\">\n",
       "  <thead>\n",
       "    <tr style=\"text-align: right;\">\n",
       "      <th></th>\n",
       "      <th>Metragem</th>\n",
       "      <th>Quartos</th>\n",
       "      <th>Banheiros</th>\n",
       "      <th>Vagas</th>\n",
       "      <th>Valor_anuncio</th>\n",
       "      <th>Valor_m2</th>\n",
       "      <th>latitude</th>\n",
       "      <th>longitude</th>\n",
       "      <th>Situacao_setor</th>\n",
       "      <th>V001</th>\n",
       "      <th>V002</th>\n",
       "      <th>V003</th>\n",
       "      <th>V004</th>\n",
       "      <th>V005</th>\n",
       "      <th>V006</th>\n",
       "      <th>V007</th>\n",
       "      <th>V008</th>\n",
       "      <th>V009</th>\n",
       "    </tr>\n",
       "  </thead>\n",
       "  <tbody>\n",
       "    <tr>\n",
       "      <th>Metragem</th>\n",
       "      <td>1.00</td>\n",
       "      <td>0.23</td>\n",
       "      <td>0.23</td>\n",
       "      <td>0.27</td>\n",
       "      <td>0.30</td>\n",
       "      <td>0.06</td>\n",
       "      <td>-0.09</td>\n",
       "      <td>-0.13</td>\n",
       "      <td>0.48</td>\n",
       "      <td>-0.13</td>\n",
       "      <td>-0.10</td>\n",
       "      <td>0.13</td>\n",
       "      <td>0.05</td>\n",
       "      <td>0.22</td>\n",
       "      <td>0.07</td>\n",
       "      <td>0.23</td>\n",
       "      <td>0.05</td>\n",
       "      <td>0.20</td>\n",
       "    </tr>\n",
       "    <tr>\n",
       "      <th>Quartos</th>\n",
       "      <td>0.23</td>\n",
       "      <td>1.00</td>\n",
       "      <td>0.55</td>\n",
       "      <td>0.42</td>\n",
       "      <td>0.37</td>\n",
       "      <td>0.12</td>\n",
       "      <td>-0.01</td>\n",
       "      <td>-0.19</td>\n",
       "      <td>-0.01</td>\n",
       "      <td>-0.18</td>\n",
       "      <td>-0.15</td>\n",
       "      <td>0.16</td>\n",
       "      <td>0.07</td>\n",
       "      <td>0.32</td>\n",
       "      <td>0.12</td>\n",
       "      <td>0.33</td>\n",
       "      <td>0.11</td>\n",
       "      <td>0.31</td>\n",
       "    </tr>\n",
       "    <tr>\n",
       "      <th>Banheiros</th>\n",
       "      <td>0.23</td>\n",
       "      <td>0.55</td>\n",
       "      <td>1.00</td>\n",
       "      <td>0.46</td>\n",
       "      <td>0.47</td>\n",
       "      <td>0.22</td>\n",
       "      <td>-0.03</td>\n",
       "      <td>-0.25</td>\n",
       "      <td>-0.03</td>\n",
       "      <td>-0.22</td>\n",
       "      <td>-0.17</td>\n",
       "      <td>0.21</td>\n",
       "      <td>0.07</td>\n",
       "      <td>0.41</td>\n",
       "      <td>0.11</td>\n",
       "      <td>0.41</td>\n",
       "      <td>0.08</td>\n",
       "      <td>0.39</td>\n",
       "    </tr>\n",
       "    <tr>\n",
       "      <th>Vagas</th>\n",
       "      <td>0.27</td>\n",
       "      <td>0.42</td>\n",
       "      <td>0.46</td>\n",
       "      <td>1.00</td>\n",
       "      <td>0.48</td>\n",
       "      <td>0.15</td>\n",
       "      <td>-0.04</td>\n",
       "      <td>-0.19</td>\n",
       "      <td>-0.01</td>\n",
       "      <td>-0.21</td>\n",
       "      <td>-0.15</td>\n",
       "      <td>0.24</td>\n",
       "      <td>0.09</td>\n",
       "      <td>0.34</td>\n",
       "      <td>0.11</td>\n",
       "      <td>0.34</td>\n",
       "      <td>0.08</td>\n",
       "      <td>0.32</td>\n",
       "    </tr>\n",
       "    <tr>\n",
       "      <th>Valor_anuncio</th>\n",
       "      <td>0.30</td>\n",
       "      <td>0.37</td>\n",
       "      <td>0.47</td>\n",
       "      <td>0.48</td>\n",
       "      <td>1.00</td>\n",
       "      <td>0.70</td>\n",
       "      <td>0.02</td>\n",
       "      <td>-0.21</td>\n",
       "      <td>-0.00</td>\n",
       "      <td>-0.22</td>\n",
       "      <td>-0.19</td>\n",
       "      <td>0.13</td>\n",
       "      <td>0.08</td>\n",
       "      <td>0.45</td>\n",
       "      <td>0.11</td>\n",
       "      <td>0.45</td>\n",
       "      <td>0.07</td>\n",
       "      <td>0.47</td>\n",
       "    </tr>\n",
       "    <tr>\n",
       "      <th>Valor_m2</th>\n",
       "      <td>0.06</td>\n",
       "      <td>0.12</td>\n",
       "      <td>0.22</td>\n",
       "      <td>0.15</td>\n",
       "      <td>0.70</td>\n",
       "      <td>1.00</td>\n",
       "      <td>0.05</td>\n",
       "      <td>-0.18</td>\n",
       "      <td>-0.03</td>\n",
       "      <td>-0.11</td>\n",
       "      <td>-0.15</td>\n",
       "      <td>-0.13</td>\n",
       "      <td>0.01</td>\n",
       "      <td>0.29</td>\n",
       "      <td>0.04</td>\n",
       "      <td>0.28</td>\n",
       "      <td>0.02</td>\n",
       "      <td>0.37</td>\n",
       "    </tr>\n",
       "    <tr>\n",
       "      <th>latitude</th>\n",
       "      <td>-0.09</td>\n",
       "      <td>-0.01</td>\n",
       "      <td>-0.03</td>\n",
       "      <td>-0.04</td>\n",
       "      <td>0.02</td>\n",
       "      <td>0.05</td>\n",
       "      <td>1.00</td>\n",
       "      <td>0.15</td>\n",
       "      <td>-0.03</td>\n",
       "      <td>-0.00</td>\n",
       "      <td>-0.02</td>\n",
       "      <td>-0.05</td>\n",
       "      <td>0.03</td>\n",
       "      <td>-0.05</td>\n",
       "      <td>-0.09</td>\n",
       "      <td>-0.07</td>\n",
       "      <td>-0.07</td>\n",
       "      <td>-0.04</td>\n",
       "    </tr>\n",
       "    <tr>\n",
       "      <th>longitude</th>\n",
       "      <td>-0.13</td>\n",
       "      <td>-0.19</td>\n",
       "      <td>-0.25</td>\n",
       "      <td>-0.19</td>\n",
       "      <td>-0.21</td>\n",
       "      <td>-0.18</td>\n",
       "      <td>0.15</td>\n",
       "      <td>1.00</td>\n",
       "      <td>-0.01</td>\n",
       "      <td>0.31</td>\n",
       "      <td>0.30</td>\n",
       "      <td>-0.05</td>\n",
       "      <td>0.02</td>\n",
       "      <td>-0.36</td>\n",
       "      <td>-0.10</td>\n",
       "      <td>-0.36</td>\n",
       "      <td>-0.07</td>\n",
       "      <td>-0.38</td>\n",
       "    </tr>\n",
       "    <tr>\n",
       "      <th>Situacao_setor</th>\n",
       "      <td>0.48</td>\n",
       "      <td>-0.01</td>\n",
       "      <td>-0.03</td>\n",
       "      <td>-0.01</td>\n",
       "      <td>-0.00</td>\n",
       "      <td>-0.03</td>\n",
       "      <td>-0.03</td>\n",
       "      <td>-0.01</td>\n",
       "      <td>1.00</td>\n",
       "      <td>0.02</td>\n",
       "      <td>0.03</td>\n",
       "      <td>0.03</td>\n",
       "      <td>0.00</td>\n",
       "      <td>-0.03</td>\n",
       "      <td>-0.01</td>\n",
       "      <td>-0.03</td>\n",
       "      <td>-0.01</td>\n",
       "      <td>-0.04</td>\n",
       "    </tr>\n",
       "    <tr>\n",
       "      <th>V001</th>\n",
       "      <td>-0.13</td>\n",
       "      <td>-0.18</td>\n",
       "      <td>-0.22</td>\n",
       "      <td>-0.21</td>\n",
       "      <td>-0.22</td>\n",
       "      <td>-0.11</td>\n",
       "      <td>-0.00</td>\n",
       "      <td>0.31</td>\n",
       "      <td>0.02</td>\n",
       "      <td>1.00</td>\n",
       "      <td>0.95</td>\n",
       "      <td>-0.22</td>\n",
       "      <td>-0.12</td>\n",
       "      <td>-0.38</td>\n",
       "      <td>-0.10</td>\n",
       "      <td>-0.39</td>\n",
       "      <td>-0.10</td>\n",
       "      <td>-0.36</td>\n",
       "    </tr>\n",
       "    <tr>\n",
       "      <th>V002</th>\n",
       "      <td>-0.10</td>\n",
       "      <td>-0.15</td>\n",
       "      <td>-0.17</td>\n",
       "      <td>-0.15</td>\n",
       "      <td>-0.19</td>\n",
       "      <td>-0.15</td>\n",
       "      <td>-0.02</td>\n",
       "      <td>0.30</td>\n",
       "      <td>0.03</td>\n",
       "      <td>0.95</td>\n",
       "      <td>1.00</td>\n",
       "      <td>0.07</td>\n",
       "      <td>0.00</td>\n",
       "      <td>-0.33</td>\n",
       "      <td>-0.09</td>\n",
       "      <td>-0.34</td>\n",
       "      <td>-0.09</td>\n",
       "      <td>-0.35</td>\n",
       "    </tr>\n",
       "    <tr>\n",
       "      <th>V003</th>\n",
       "      <td>0.13</td>\n",
       "      <td>0.16</td>\n",
       "      <td>0.21</td>\n",
       "      <td>0.24</td>\n",
       "      <td>0.13</td>\n",
       "      <td>-0.13</td>\n",
       "      <td>-0.05</td>\n",
       "      <td>-0.05</td>\n",
       "      <td>0.03</td>\n",
       "      <td>-0.22</td>\n",
       "      <td>0.07</td>\n",
       "      <td>1.00</td>\n",
       "      <td>0.41</td>\n",
       "      <td>0.28</td>\n",
       "      <td>0.08</td>\n",
       "      <td>0.28</td>\n",
       "      <td>0.06</td>\n",
       "      <td>0.13</td>\n",
       "    </tr>\n",
       "    <tr>\n",
       "      <th>V004</th>\n",
       "      <td>0.05</td>\n",
       "      <td>0.07</td>\n",
       "      <td>0.07</td>\n",
       "      <td>0.09</td>\n",
       "      <td>0.08</td>\n",
       "      <td>0.01</td>\n",
       "      <td>0.03</td>\n",
       "      <td>0.02</td>\n",
       "      <td>0.00</td>\n",
       "      <td>-0.12</td>\n",
       "      <td>0.00</td>\n",
       "      <td>0.41</td>\n",
       "      <td>1.00</td>\n",
       "      <td>0.07</td>\n",
       "      <td>0.02</td>\n",
       "      <td>0.06</td>\n",
       "      <td>0.01</td>\n",
       "      <td>-0.01</td>\n",
       "    </tr>\n",
       "    <tr>\n",
       "      <th>V005</th>\n",
       "      <td>0.22</td>\n",
       "      <td>0.32</td>\n",
       "      <td>0.41</td>\n",
       "      <td>0.34</td>\n",
       "      <td>0.45</td>\n",
       "      <td>0.29</td>\n",
       "      <td>-0.05</td>\n",
       "      <td>-0.36</td>\n",
       "      <td>-0.03</td>\n",
       "      <td>-0.38</td>\n",
       "      <td>-0.33</td>\n",
       "      <td>0.28</td>\n",
       "      <td>0.07</td>\n",
       "      <td>1.00</td>\n",
       "      <td>0.42</td>\n",
       "      <td>0.95</td>\n",
       "      <td>0.31</td>\n",
       "      <td>0.95</td>\n",
       "    </tr>\n",
       "    <tr>\n",
       "      <th>V006</th>\n",
       "      <td>0.07</td>\n",
       "      <td>0.12</td>\n",
       "      <td>0.11</td>\n",
       "      <td>0.11</td>\n",
       "      <td>0.11</td>\n",
       "      <td>0.04</td>\n",
       "      <td>-0.09</td>\n",
       "      <td>-0.10</td>\n",
       "      <td>-0.01</td>\n",
       "      <td>-0.10</td>\n",
       "      <td>-0.09</td>\n",
       "      <td>0.08</td>\n",
       "      <td>0.02</td>\n",
       "      <td>0.42</td>\n",
       "      <td>1.00</td>\n",
       "      <td>0.56</td>\n",
       "      <td>0.93</td>\n",
       "      <td>0.42</td>\n",
       "    </tr>\n",
       "    <tr>\n",
       "      <th>V007</th>\n",
       "      <td>0.23</td>\n",
       "      <td>0.33</td>\n",
       "      <td>0.41</td>\n",
       "      <td>0.34</td>\n",
       "      <td>0.45</td>\n",
       "      <td>0.28</td>\n",
       "      <td>-0.07</td>\n",
       "      <td>-0.36</td>\n",
       "      <td>-0.03</td>\n",
       "      <td>-0.39</td>\n",
       "      <td>-0.34</td>\n",
       "      <td>0.28</td>\n",
       "      <td>0.06</td>\n",
       "      <td>0.95</td>\n",
       "      <td>0.56</td>\n",
       "      <td>1.00</td>\n",
       "      <td>0.50</td>\n",
       "      <td>0.92</td>\n",
       "    </tr>\n",
       "    <tr>\n",
       "      <th>V008</th>\n",
       "      <td>0.05</td>\n",
       "      <td>0.11</td>\n",
       "      <td>0.08</td>\n",
       "      <td>0.08</td>\n",
       "      <td>0.07</td>\n",
       "      <td>0.02</td>\n",
       "      <td>-0.07</td>\n",
       "      <td>-0.07</td>\n",
       "      <td>-0.01</td>\n",
       "      <td>-0.10</td>\n",
       "      <td>-0.09</td>\n",
       "      <td>0.06</td>\n",
       "      <td>0.01</td>\n",
       "      <td>0.31</td>\n",
       "      <td>0.93</td>\n",
       "      <td>0.50</td>\n",
       "      <td>1.00</td>\n",
       "      <td>0.33</td>\n",
       "    </tr>\n",
       "    <tr>\n",
       "      <th>V009</th>\n",
       "      <td>0.20</td>\n",
       "      <td>0.31</td>\n",
       "      <td>0.39</td>\n",
       "      <td>0.32</td>\n",
       "      <td>0.47</td>\n",
       "      <td>0.37</td>\n",
       "      <td>-0.04</td>\n",
       "      <td>-0.38</td>\n",
       "      <td>-0.04</td>\n",
       "      <td>-0.36</td>\n",
       "      <td>-0.35</td>\n",
       "      <td>0.13</td>\n",
       "      <td>-0.01</td>\n",
       "      <td>0.95</td>\n",
       "      <td>0.42</td>\n",
       "      <td>0.92</td>\n",
       "      <td>0.33</td>\n",
       "      <td>1.00</td>\n",
       "    </tr>\n",
       "  </tbody>\n",
       "</table>\n",
       "</div>"
      ],
      "text/plain": [
       "                Metragem  Quartos  Banheiros  Vagas  Valor_anuncio  Valor_m2  \\\n",
       "Metragem            1.00     0.23       0.23   0.27           0.30      0.06   \n",
       "Quartos             0.23     1.00       0.55   0.42           0.37      0.12   \n",
       "Banheiros           0.23     0.55       1.00   0.46           0.47      0.22   \n",
       "Vagas               0.27     0.42       0.46   1.00           0.48      0.15   \n",
       "Valor_anuncio       0.30     0.37       0.47   0.48           1.00      0.70   \n",
       "Valor_m2            0.06     0.12       0.22   0.15           0.70      1.00   \n",
       "latitude           -0.09    -0.01      -0.03  -0.04           0.02      0.05   \n",
       "longitude          -0.13    -0.19      -0.25  -0.19          -0.21     -0.18   \n",
       "Situacao_setor      0.48    -0.01      -0.03  -0.01          -0.00     -0.03   \n",
       "V001               -0.13    -0.18      -0.22  -0.21          -0.22     -0.11   \n",
       "V002               -0.10    -0.15      -0.17  -0.15          -0.19     -0.15   \n",
       "V003                0.13     0.16       0.21   0.24           0.13     -0.13   \n",
       "V004                0.05     0.07       0.07   0.09           0.08      0.01   \n",
       "V005                0.22     0.32       0.41   0.34           0.45      0.29   \n",
       "V006                0.07     0.12       0.11   0.11           0.11      0.04   \n",
       "V007                0.23     0.33       0.41   0.34           0.45      0.28   \n",
       "V008                0.05     0.11       0.08   0.08           0.07      0.02   \n",
       "V009                0.20     0.31       0.39   0.32           0.47      0.37   \n",
       "\n",
       "                latitude  longitude  Situacao_setor  V001  V002  V003  V004  \\\n",
       "Metragem           -0.09      -0.13            0.48 -0.13 -0.10  0.13  0.05   \n",
       "Quartos            -0.01      -0.19           -0.01 -0.18 -0.15  0.16  0.07   \n",
       "Banheiros          -0.03      -0.25           -0.03 -0.22 -0.17  0.21  0.07   \n",
       "Vagas              -0.04      -0.19           -0.01 -0.21 -0.15  0.24  0.09   \n",
       "Valor_anuncio       0.02      -0.21           -0.00 -0.22 -0.19  0.13  0.08   \n",
       "Valor_m2            0.05      -0.18           -0.03 -0.11 -0.15 -0.13  0.01   \n",
       "latitude            1.00       0.15           -0.03 -0.00 -0.02 -0.05  0.03   \n",
       "longitude           0.15       1.00           -0.01  0.31  0.30 -0.05  0.02   \n",
       "Situacao_setor     -0.03      -0.01            1.00  0.02  0.03  0.03  0.00   \n",
       "V001               -0.00       0.31            0.02  1.00  0.95 -0.22 -0.12   \n",
       "V002               -0.02       0.30            0.03  0.95  1.00  0.07  0.00   \n",
       "V003               -0.05      -0.05            0.03 -0.22  0.07  1.00  0.41   \n",
       "V004                0.03       0.02            0.00 -0.12  0.00  0.41  1.00   \n",
       "V005               -0.05      -0.36           -0.03 -0.38 -0.33  0.28  0.07   \n",
       "V006               -0.09      -0.10           -0.01 -0.10 -0.09  0.08  0.02   \n",
       "V007               -0.07      -0.36           -0.03 -0.39 -0.34  0.28  0.06   \n",
       "V008               -0.07      -0.07           -0.01 -0.10 -0.09  0.06  0.01   \n",
       "V009               -0.04      -0.38           -0.04 -0.36 -0.35  0.13 -0.01   \n",
       "\n",
       "                V005  V006  V007  V008  V009  \n",
       "Metragem        0.22  0.07  0.23  0.05  0.20  \n",
       "Quartos         0.32  0.12  0.33  0.11  0.31  \n",
       "Banheiros       0.41  0.11  0.41  0.08  0.39  \n",
       "Vagas           0.34  0.11  0.34  0.08  0.32  \n",
       "Valor_anuncio   0.45  0.11  0.45  0.07  0.47  \n",
       "Valor_m2        0.29  0.04  0.28  0.02  0.37  \n",
       "latitude       -0.05 -0.09 -0.07 -0.07 -0.04  \n",
       "longitude      -0.36 -0.10 -0.36 -0.07 -0.38  \n",
       "Situacao_setor -0.03 -0.01 -0.03 -0.01 -0.04  \n",
       "V001           -0.38 -0.10 -0.39 -0.10 -0.36  \n",
       "V002           -0.33 -0.09 -0.34 -0.09 -0.35  \n",
       "V003            0.28  0.08  0.28  0.06  0.13  \n",
       "V004            0.07  0.02  0.06  0.01 -0.01  \n",
       "V005            1.00  0.42  0.95  0.31  0.95  \n",
       "V006            0.42  1.00  0.56  0.93  0.42  \n",
       "V007            0.95  0.56  1.00  0.50  0.92  \n",
       "V008            0.31  0.93  0.50  1.00  0.33  \n",
       "V009            0.95  0.42  0.92  0.33  1.00  "
      ]
     },
     "execution_count": 9,
     "metadata": {},
     "output_type": "execute_result"
    }
   ],
   "source": [
    "# Correlation\n",
    "census_sales_data.corr()"
   ]
  },
  {
   "cell_type": "code",
   "execution_count": 10,
   "metadata": {
    "colab": {
     "base_uri": "https://localhost:8080/",
     "height": 587
    },
    "id": "s3TnNtg_50_2",
    "outputId": "46617552-3c97-4fba-9a0b-966af04a6c56"
   },
   "outputs": [
    {
     "data": {
      "image/png": "[encoded data removed]",
      "text/plain": [
       "<Figure size 1296x576 with 2 Axes>"
      ]
     },
     "metadata": {},
     "output_type": "display_data"
    }
   ],
   "source": [
    "# Correlation\n",
    "\n",
    "plt.figure(figsize=(18, 8))\n",
    "#https://www.tylervigen.com/spurious-correlations\n",
    "mask = np.triu(np.ones_like(census_sales_data.corr(), dtype=bool))\n",
    "heatmap = sns.heatmap(census_sales_data.corr(), mask=mask, vmin=-1, vmax=1, annot=True, cmap='BrBG')\n",
    "heatmap.set_title('Correlation', fontdict={'fontsize':18}, pad=16);"
   ]
  },
  {
   "cell_type": "code",
   "execution_count": 11,
   "metadata": {
    "id": "9PdLFs_DnMe2"
   },
   "outputs": [],
   "source": [
    "# Linear Regression. Predict a specific value.\n",
    "\n",
    "from sklearn.linear_model import LinearRegression\n",
    "from sklearn.model_selection import train_test_split\n",
    "\n",
    "# Split data into training data and test data\n",
    "# Use footage and ad value. Price according to footage\n",
    "\n",
    "X = census_sales_data[[\"Metragem\"]] # model feature. column that will predict\n",
    "Y = census_sales_data[\"Valor_anuncio\"] # value I want to predict\n",
    "\n",
    "# Returns four sets of data. 25% for testing.\n",
    "# random_state: Controls the shuffling applied to the data before applying the split\n",
    "\n",
    "X_train, X_test, Y_train, Y_test = train_test_split(X, Y, test_size = 0.25, random_state = 54)  \n",
    "lr = LinearRegression()"
   ]
  },
  {
   "cell_type": "code",
   "execution_count": 12,
   "metadata": {
    "colab": {
     "base_uri": "https://localhost:8080/",
     "height": 424
    },
    "id": "WXa-AhwS5Ey7",
    "outputId": "8f3f35c4-695e-4aab-b092-730866310b37"
   },
   "outputs": [
    {
     "data": {
      "text/html": [
       "<div>\n",
       "<style scoped>\n",
       "    .dataframe tbody tr th:only-of-type {\n",
       "        vertical-align: middle;\n",
       "    }\n",
       "\n",
       "    .dataframe tbody tr th {\n",
       "        vertical-align: top;\n",
       "    }\n",
       "\n",
       "    .dataframe thead th {\n",
       "        text-align: right;\n",
       "    }\n",
       "</style>\n",
       "<table border=\"1\" class=\"dataframe\">\n",
       "  <thead>\n",
       "    <tr style=\"text-align: right;\">\n",
       "      <th></th>\n",
       "      <th>Metragem</th>\n",
       "    </tr>\n",
       "  </thead>\n",
       "  <tbody>\n",
       "    <tr>\n",
       "      <th>3522</th>\n",
       "      <td>105</td>\n",
       "    </tr>\n",
       "    <tr>\n",
       "      <th>881</th>\n",
       "      <td>240</td>\n",
       "    </tr>\n",
       "    <tr>\n",
       "      <th>769</th>\n",
       "      <td>324</td>\n",
       "    </tr>\n",
       "    <tr>\n",
       "      <th>3364</th>\n",
       "      <td>484</td>\n",
       "    </tr>\n",
       "    <tr>\n",
       "      <th>4674</th>\n",
       "      <td>103</td>\n",
       "    </tr>\n",
       "    <tr>\n",
       "      <th>...</th>\n",
       "      <td>...</td>\n",
       "    </tr>\n",
       "    <tr>\n",
       "      <th>3558</th>\n",
       "      <td>397</td>\n",
       "    </tr>\n",
       "    <tr>\n",
       "      <th>3994</th>\n",
       "      <td>224</td>\n",
       "    </tr>\n",
       "    <tr>\n",
       "      <th>5432</th>\n",
       "      <td>238</td>\n",
       "    </tr>\n",
       "    <tr>\n",
       "      <th>4044</th>\n",
       "      <td>300</td>\n",
       "    </tr>\n",
       "    <tr>\n",
       "      <th>948</th>\n",
       "      <td>186</td>\n",
       "    </tr>\n",
       "  </tbody>\n",
       "</table>\n",
       "<p>3977 rows × 1 columns</p>\n",
       "</div>"
      ],
      "text/plain": [
       "      Metragem\n",
       "3522       105\n",
       "881        240\n",
       "769        324\n",
       "3364       484\n",
       "4674       103\n",
       "...        ...\n",
       "3558       397\n",
       "3994       224\n",
       "5432       238\n",
       "4044       300\n",
       "948        186\n",
       "\n",
       "[3977 rows x 1 columns]"
      ]
     },
     "execution_count": 12,
     "metadata": {},
     "output_type": "execute_result"
    }
   ],
   "source": [
    "X_train"
   ]
  },
  {
   "cell_type": "code",
   "execution_count": 29,
   "metadata": {
    "colab": {
     "base_uri": "https://localhost:8080/"
    },
    "id": "72bCZJHo2zED",
    "outputId": "343c6c77-dd0c-41d9-c892-d6a315cddd07"
   },
   "outputs": [
    {
     "data": {
      "text/plain": [
       "LinearRegression()"
      ]
     },
     "execution_count": 29,
     "metadata": {},
     "output_type": "execute_result"
    }
   ],
   "source": [
    "# Model training\n",
    "lr.fit(X_train, Y_train)"
   ]
  },
  {
   "cell_type": "code",
   "execution_count": 31,
   "metadata": {},
   "outputs": [
    {
     "data": {
      "text/plain": [
       "array([9370967.88561768, -171876.21685318, 1147167.78336976, ...,\n",
       "       2788950.20285357, 1461828.64977916, 3751731.46846679])"
      ]
     },
     "execution_count": 31,
     "metadata": {},
     "output_type": "execute_result"
    }
   ],
   "source": [
    "# Returns array with prediction of property values\n",
    "lr.predict(X_test)"
   ]
  },
  {
   "cell_type": "code",
   "execution_count": 30,
   "metadata": {
    "id": "8J-j354221LX"
   },
   "outputs": [],
   "source": [
    "# Prediction test\n",
    "Y_predict_test = lr.predict(X_test)"
   ]
  },
  {
   "cell_type": "code",
   "execution_count": 15,
   "metadata": {
    "colab": {
     "base_uri": "https://localhost:8080/"
    },
    "id": "eil-6-wO522t",
    "outputId": "c6e31b47-a4a2-4ec1-ad6b-889719769ce9"
   },
   "outputs": [
    {
     "data": {
      "text/plain": [
       "172    4500000.00\n",
       "4513    345000.00\n",
       "4865    800000.00\n",
       "4979   4000000.00\n",
       "1255   5100000.00\n",
       "          ...    \n",
       "5240   1600000.00\n",
       "4472    580000.00\n",
       "3291   2200000.00\n",
       "432    1500000.00\n",
       "2455   2800000.00\n",
       "Name: Valor_anuncio, Length: 1326, dtype: float64"
      ]
     },
     "execution_count": 15,
     "metadata": {},
     "output_type": "execute_result"
    }
   ],
   "source": [
    "Y_test"
   ]
  },
  {
   "cell_type": "code",
   "execution_count": 16,
   "metadata": {
    "id": "uPFr1DYn57g-"
   },
   "outputs": [],
   "source": [
    "# Prediction train\n",
    "Y_predict_train = lr.predict(X_train)"
   ]
  },
  {
   "cell_type": "code",
   "execution_count": 17,
   "metadata": {
    "colab": {
     "base_uri": "https://localhost:8080/"
    },
    "id": "CkM9eoXY6_ya",
    "outputId": "e8a954c4-ab13-4bd6-a3d6-821c96f371cc"
   },
   "outputs": [
    {
     "data": {
      "text/plain": [
       "3522    692000.00\n",
       "881    1490000.00\n",
       "769    2100000.00\n",
       "3364   6700000.00\n",
       "4674    622500.00\n",
       "          ...    \n",
       "3558   4280000.00\n",
       "3994   1500000.00\n",
       "5432   2300000.00\n",
       "4044   1600000.00\n",
       "948    3280000.00\n",
       "Name: Valor_anuncio, Length: 3977, dtype: float64"
      ]
     },
     "execution_count": 17,
     "metadata": {},
     "output_type": "execute_result"
    }
   ],
   "source": [
    "Y_train"
   ]
  },
  {
   "cell_type": "code",
   "execution_count": 18,
   "metadata": {
    "colab": {
     "base_uri": "https://localhost:8080/"
    },
    "id": "CBeDPdD37Cxe",
    "outputId": "2a3e16ba-26b4-478a-cbb1-5bfab2ad4da1"
   },
   "outputs": [
    {
     "data": {
      "text/plain": [
       "1770626.9062636306"
      ]
     },
     "execution_count": 18,
     "metadata": {},
     "output_type": "execute_result"
    }
   ],
   "source": [
    "# Error. The sum of all errors. \n",
    "# The higher the number, the worse. It is further from the predicted values.\n",
    "\n",
    "from sklearn.metrics import mean_absolute_error, r2_score \n",
    "\n",
    "\n",
    "mean_absolute_error(Y_test, Y_predict_test)"
   ]
  },
  {
   "cell_type": "code",
   "execution_count": 19,
   "metadata": {
    "colab": {
     "base_uri": "https://localhost:8080/"
    },
    "id": "1AgkJDQA8i5x",
    "outputId": "ad39dfb6-79b2-4eb9-f865-af302b15e384"
   },
   "outputs": [
    {
     "data": {
      "text/plain": [
       "1825220.303454906"
      ]
     },
     "execution_count": 19,
     "metadata": {},
     "output_type": "execute_result"
    }
   ],
   "source": [
    "mean_absolute_error(Y_train, Y_predict_train)\n",
    "\n",
    "# The model is not good.\n",
    "# Perhaps, just one variable is not enough to predict the value of the property."
   ]
  },
  {
   "cell_type": "code",
   "execution_count": 21,
   "metadata": {
    "id": "26xpDyxU8tQb"
   },
   "outputs": [],
   "source": [
    "# Try with multiple variables.\n",
    "#Footage, rooms, bathrooms, vacancies, \n",
    "\n",
    "X = census_sales_data[['Metragem', 'Quartos', 'Banheiros', 'Vagas','V001','V007', 'V009']]\n",
    "\n",
    "Y = census_sales_data[\"Valor_anuncio\"]\n",
    "\n",
    "X_train, X_test, Y_train, Y_test = train_test_split(X, Y, test_size = 0.25, random_state = 54)\n",
    "lr.fit(X_train, Y_train)\n",
    "\n",
    "Y_predict_test = lr.predict(X_test)\n",
    "Y_predict_train = lr.predict(X_train)\n",
    "\n",
    "# r2 - measuring the amount of variance in the predictions. Compares how much better or worse we are from a simple model.\n",
    "\n",
    "mae_test = mean_absolute_error(Y_test, Y_predict_test)\n",
    "r2_test = r2_score(Y_test, Y_predict_test)\n",
    "\n",
    "mae_train = mean_absolute_error(Y_train, Y_predict_train)\n",
    "r2_train = r2_score(Y_train, Y_predict_train)"
   ]
  },
  {
   "cell_type": "code",
   "execution_count": 22,
   "metadata": {
    "colab": {
     "base_uri": "https://localhost:8080/"
    },
    "id": "azIE6AEm_zqd",
    "outputId": "a37b3bd1-5927-439b-bafd-120eb91cea99"
   },
   "outputs": [
    {
     "data": {
      "text/plain": [
       "1349590.3844325352"
      ]
     },
     "execution_count": 22,
     "metadata": {},
     "output_type": "execute_result"
    }
   ],
   "source": [
    "mae_test"
   ]
  },
  {
   "cell_type": "code",
   "execution_count": 23,
   "metadata": {
    "colab": {
     "base_uri": "https://localhost:8080/"
    },
    "id": "7C1STxU3_0s7",
    "outputId": "d9b3560b-bd48-4296-8422-dded54716b6a"
   },
   "outputs": [
    {
     "data": {
      "text/plain": [
       "0.37745069254620955"
      ]
     },
     "execution_count": 23,
     "metadata": {},
     "output_type": "execute_result"
    }
   ],
   "source": [
    "r2_test"
   ]
  },
  {
   "cell_type": "code",
   "execution_count": 24,
   "metadata": {
    "colab": {
     "base_uri": "https://localhost:8080/"
    },
    "id": "4RzgpN3X_11e",
    "outputId": "d2c3f43d-572a-43f6-f668-8a717e91ef7e"
   },
   "outputs": [
    {
     "data": {
      "text/plain": [
       "1362945.6915047609"
      ]
     },
     "execution_count": 24,
     "metadata": {},
     "output_type": "execute_result"
    }
   ],
   "source": [
    "mae_train"
   ]
  },
  {
   "cell_type": "code",
   "execution_count": 25,
   "metadata": {
    "colab": {
     "base_uri": "https://localhost:8080/"
    },
    "id": "MvyxAOhsAjkb",
    "outputId": "816ef942-8c81-4987-f3f4-f8dae66f7f07"
   },
   "outputs": [
    {
     "data": {
      "text/plain": [
       "0.39899592785823323"
      ]
     },
     "execution_count": 25,
     "metadata": {},
     "output_type": "execute_result"
    }
   ],
   "source": [
    "r2_train"
   ]
  },
  {
   "cell_type": "code",
   "execution_count": 26,
   "metadata": {
    "colab": {
     "base_uri": "https://localhost:8080/"
    },
    "id": "HbHcAiUKB52R",
    "outputId": "08430830-099a-4ae3-b896-a6166204b0b9"
   },
   "outputs": [
    {
     "data": {
      "text/plain": [
       "1349590.3844325352"
      ]
     },
     "execution_count": 26,
     "metadata": {},
     "output_type": "execute_result"
    }
   ],
   "source": [
    "mae_test"
   ]
  },
  {
   "cell_type": "code",
   "execution_count": 27,
   "metadata": {
    "colab": {
     "base_uri": "https://localhost:8080/"
    },
    "id": "0gNhJORRDO0L",
    "outputId": "cd726c8e-4d9f-4d08-be9e-75485f3df842"
   },
   "outputs": [
    {
     "data": {
      "text/plain": [
       "0.37745069254620955"
      ]
     },
     "execution_count": 27,
     "metadata": {},
     "output_type": "execute_result"
    }
   ],
   "source": [
    "r2_test"
   ]
  },
  {
   "cell_type": "code",
   "execution_count": 28,
   "metadata": {
    "colab": {
     "base_uri": "https://localhost:8080/",
     "height": 640
    },
    "id": "vHGugPiQBgxQ",
    "outputId": "d42e3638-9a80-487b-9600-61ea1eb75216"
   },
   "outputs": [
    {
     "data": {
      "text/plain": [
       "<AxesSubplot:xlabel='Valor_anuncio'>"
      ]
     },
     "execution_count": 28,
     "metadata": {},
     "output_type": "execute_result"
    },
    {
     "data": {
      "image/png": "[encoded data removed]",
      "text/plain": [
       "<Figure size 720x720 with 1 Axes>"
      ]
     },
     "metadata": {},
     "output_type": "display_data"
    }
   ],
   "source": [
    "plt.figure(figsize=(10, 10))\n",
    "sns.scatterplot(x=Y_test, y=Y_predict_test)"
   ]
  }
 ],
 "metadata": {
  "colab": {
   "collapsed_sections": [],
   "name": "Project Sale of House - Prediction.ipynb",
   "provenance": []
  },
  "kernelspec": {
   "display_name": "Python 3 (ipykernel)",
   "language": "python",
   "name": "python3"
  },
  "language_info": {
   "codemirror_mode": {
    "name": "ipython",
    "version": 3
   },
   "file_extension": ".py",
   "mimetype": "text/x-python",
   "name": "python",
   "nbconvert_exporter": "python",
   "pygments_lexer": "ipython3",
   "version": "3.9.12"
  }
 },
 "nbformat": 4,
 "nbformat_minor": 1
}
