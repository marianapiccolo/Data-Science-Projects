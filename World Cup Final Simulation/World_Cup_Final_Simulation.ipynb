{
 "cells": [
  {
   "cell_type": "markdown",
   "id": "74a767ac",
   "metadata": {},
   "source": [
    "# World Cup Final Simulation\n",
    "\n",
    "There is a table with the 2022 cup teams in their respective groups (A - H). \n",
    "For this simulation to be closer to reality, we took the FIFA ranking that gives a score for each country. In this number of the FIFA ranking, Brazil leads today. So Brazil, statistically, will be the team with the most chances to win the cup. \n",
    "We will use the FIFA ranking as the main aspect there in the main attribute of the teams to generate winners during the matches. Let's take the teams and make them clash based on these aspects. \n",
    "The first 2 of each group qualify for the round of 16, after for the quarter-finals and then the final.\n",
    "\n",
    "Data base: https://raw.githubusercontent.com/digitalinnovationone/live-coding-evitando-o-7x1-com-python-e-sql/main/data.csv"
   ]
  },
  {
   "cell_type": "code",
   "execution_count": 2,
   "id": "49bc483a",
   "metadata": {},
   "outputs": [],
   "source": [
    "import pandas as pd"
   ]
  },
  {
   "cell_type": "markdown",
   "id": "f6c955db",
   "metadata": {},
   "source": [
    "### Structure with the Groups and National Teams, in addition to their respective scores (FIFA Ranking)"
   ]
  },
  {
   "cell_type": "code",
   "execution_count": 3,
   "id": "55ad2b1f",
   "metadata": {},
   "outputs": [
    {
     "data": {
      "text/html": [
       "<div>\n",
       "<style scoped>\n",
       "    .dataframe tbody tr th:only-of-type {\n",
       "        vertical-align: middle;\n",
       "    }\n",
       "\n",
       "    .dataframe tbody tr th {\n",
       "        vertical-align: top;\n",
       "    }\n",
       "\n",
       "    .dataframe thead th {\n",
       "        text-align: right;\n",
       "    }\n",
       "</style>\n",
       "<table border=\"1\" class=\"dataframe\">\n",
       "  <thead>\n",
       "    <tr style=\"text-align: right;\">\n",
       "      <th></th>\n",
       "      <th>A</th>\n",
       "      <th>B</th>\n",
       "      <th>C</th>\n",
       "      <th>D</th>\n",
       "      <th>E</th>\n",
       "      <th>F</th>\n",
       "      <th>G</th>\n",
       "      <th>H</th>\n",
       "    </tr>\n",
       "  </thead>\n",
       "  <tbody>\n",
       "    <tr>\n",
       "      <th>0</th>\n",
       "      <td>CAT|1442.0</td>\n",
       "      <td>EUA|1635.0</td>\n",
       "      <td>ARG|1770.7</td>\n",
       "      <td>AUS|1483.7</td>\n",
       "      <td>ALE|1659.0</td>\n",
       "      <td>BEL|1821.9</td>\n",
       "      <td>BRA|1837.6</td>\n",
       "      <td>COR|1526.0</td>\n",
       "    </tr>\n",
       "    <tr>\n",
       "      <th>1</th>\n",
       "      <td>EQU|1463.7</td>\n",
       "      <td>ING|1737.5</td>\n",
       "      <td>ARA|1435.7</td>\n",
       "      <td>DIN|1665.5</td>\n",
       "      <td>COS|1500.1</td>\n",
       "      <td>CAN|1473.8</td>\n",
       "      <td>CAM|1485.0</td>\n",
       "      <td>GAN|1393.5</td>\n",
       "    </tr>\n",
       "    <tr>\n",
       "      <th>2</th>\n",
       "      <td>HOL|1679.4</td>\n",
       "      <td>IRA|1558.6</td>\n",
       "      <td>MEX|1649.6</td>\n",
       "      <td>FRA|1764.9</td>\n",
       "      <td>ESP|1716.9</td>\n",
       "      <td>CRO|1632.2</td>\n",
       "      <td>SUI|1621.4</td>\n",
       "      <td>POR|1678.7</td>\n",
       "    </tr>\n",
       "    <tr>\n",
       "      <th>3</th>\n",
       "      <td>SEN|1584.6</td>\n",
       "      <td>GAL|1582.1</td>\n",
       "      <td>POL|1546.2</td>\n",
       "      <td>TUN|1507.9</td>\n",
       "      <td>JAP|1554.7</td>\n",
       "      <td>MAR|1558.4</td>\n",
       "      <td>SER|1549.5</td>\n",
       "      <td>URU|1641.0</td>\n",
       "    </tr>\n",
       "  </tbody>\n",
       "</table>\n",
       "</div>"
      ],
      "text/plain": [
       "            A           B           C           D           E           F  \\\n",
       "0  CAT|1442.0  EUA|1635.0  ARG|1770.7  AUS|1483.7  ALE|1659.0  BEL|1821.9   \n",
       "1  EQU|1463.7  ING|1737.5  ARA|1435.7  DIN|1665.5  COS|1500.1  CAN|1473.8   \n",
       "2  HOL|1679.4  IRA|1558.6  MEX|1649.6  FRA|1764.9  ESP|1716.9  CRO|1632.2   \n",
       "3  SEN|1584.6  GAL|1582.1  POL|1546.2  TUN|1507.9  JAP|1554.7  MAR|1558.4   \n",
       "\n",
       "            G           H  \n",
       "0  BRA|1837.6  COR|1526.0  \n",
       "1  CAM|1485.0  GAN|1393.5  \n",
       "2  SUI|1621.4  POR|1678.7  \n",
       "3  SER|1549.5  URU|1641.0  "
      ]
     },
     "execution_count": 3,
     "metadata": {},
     "output_type": "execute_result"
    }
   ],
   "source": [
    "df = pd.read_csv('https://raw.githubusercontent.com/digitalinnovationone/live-coding-evitando-o-7x1-com-python-e-sql/main/data.csv')\n",
    "df.head()"
   ]
  },
  {
   "cell_type": "markdown",
   "id": "80fedc91",
   "metadata": {},
   "source": [
    "### Class that represents a team, with its characteristics and behaviors:"
   ]
  },
  {
   "cell_type": "code",
   "execution_count": 4,
   "id": "cc170290",
   "metadata": {},
   "outputs": [],
   "source": [
    "import random\n",
    "\n",
    "class Team: # Define a constructor with the proper attributes (in view of the contents of a CSV cell)\n",
    "    best_score = 1837.6 # Brazil (BRA)\n",
    "    \n",
    "    def __init__(self, content):\n",
    "        teamData = content.split('|')\n",
    "        self.name = teamData[0]\n",
    "        self.score = float(teamData[1])\n",
    "\n",
    "    def motivate(self):\n",
    "    \n",
    "      \"\"\"\n",
    "      The worst selection of the cup (GAN, according to FIFA) has a score of 1393.5, which is equivalent to 75% of the best score (BRA).\n",
    "      Therefore, so that randomness is not so decisive, we can define an initial interval close to 75.\n",
    "      For example, GAN could have values between 70~75 (approximately). On the other hand, BRA would have 70~100 (higher chance of winning).\n",
    "      \n",
    "      1837.6 (BRA) ---- 100%\n",
    "      1393.5 (GAN) ---- X\n",
    "      X = 75.83%\n",
    "      \"\"\"\n",
    "        \n",
    "      # logic for assigning motivation to the team.\n",
    "    \n",
    "      self.lastMotivation = random.uniform(70, (self.score * 100) / Team.best_score)\n",
    "      return self.lastMotivation\n",
    "    \n",
    "    \n",
    "    \n",
    "    "
   ]
  },
  {
   "cell_type": "markdown",
   "id": "ca8c024e",
   "metadata": {},
   "source": [
    "### Simulating the Group Phase:"
   ]
  },
  {
   "cell_type": "code",
   "execution_count": 5,
   "id": "0f4afd84",
   "metadata": {},
   "outputs": [
    {
     "name": "stdout",
     "output_type": "stream",
     "text": [
      "Group A: SEN (85.59)CAT (76.20)HOL (72.97)EQU (70.10)\n",
      "Group B: ING (84.74)IRA (74.21)EUA (72.46)GAL (70.68)\n",
      "Group C: MEX (76.40)ARA (75.12)POL (74.27)ARG (70.59)\n",
      "Group D: FRA (86.48)TUN (76.89)AUS (72.56)DIN (72.11)\n",
      "Group E: ESP (92.61)JAP (76.68)ALE (74.14)COS (71.12)\n",
      "Group F: BEL (90.33)MAR (81.74)CAN (78.98)CRO (72.32)\n",
      "Group G: BRA (85.36)SER (84.25)CAM (79.78)SUI (74.94)\n",
      "Group H: POR (78.61)URU (77.15)COR (76.63)GAN (75.04)\n"
     ]
    }
   ],
   "source": [
    "# Map in which the key will be the letter of the group and the value of the selections (which we will order by the \"best\").\n",
    "\n",
    "bestTeamsByGroup = {}\n",
    "\n",
    "# Instantiate the 4 selections of the group, with their respective names and score.\n",
    "\n",
    "for label, content in df.items(): # It loops through the dataframe (CSV data) to create our objects/selections.\n",
    "    team1 = Team(content[0])\n",
    "    team2 = Team(content[1])\n",
    "    team3 = Team(content[2])\n",
    "    team4 = Team(content[3])\n",
    "       \n",
    "   # Calculated from its FIFA ranking plus a dash of randomness.\n",
    "\n",
    "    bestTeamsByGroup[label] = sorted([team1, team2, team3, team4], key = Team.motivate, reverse = True) # Simulate the best of the group based on the motivation of each selection.\n",
    "\n",
    "# Print the groups, ordered by the best selections of each (only 2 qualify)\n",
    "for group, motivatedTeams in bestTeamsByGroup.items():\n",
    "    print('Group {}: '.format(group), end = \"\")\n",
    "    for team in motivatedTeams:\n",
    "        print('{} ({:.2f})'.format(team.name, team.lastMotivation), end = \"\")\n",
    "    print()"
   ]
  },
  {
   "cell_type": "markdown",
   "id": "9b9ba9ac",
   "metadata": {},
   "source": [
    "### Simulating the Round of 16 (16 best selections)"
   ]
  },
  {
   "cell_type": "code",
   "execution_count": 6,
   "id": "e57ae088",
   "metadata": {},
   "outputs": [
    {
     "name": "stdout",
     "output_type": "stream",
     "text": [
      "SEN (73.41) x IRA (72.84)\n",
      "MEX (76.78) x TUN (76.29)\n",
      "ESP (70.10) x MAR (83.70)\n",
      "BRA (83.07) x URU (72.02)\n",
      "ING (93.48) x CAT (71.07)\n",
      "FRA (82.41) x ARA (73.10)\n",
      "BEL (88.60) x JAP (77.79)\n",
      "POR (88.61) x SER (76.23)\n"
     ]
    }
   ],
   "source": [
    "# Simulate the matches of the Round of 16 (randomizing their respective motivations again).\n",
    "\n",
    "team1A = bestTeamsByGroup['A'][0]\n",
    "team2A = bestTeamsByGroup['A'][1]\n",
    "team1B = bestTeamsByGroup['B'][0]\n",
    "team2B = bestTeamsByGroup['B'][1]\n",
    "team1C = bestTeamsByGroup['C'][0]\n",
    "team2C = bestTeamsByGroup['C'][1]\n",
    "team1D = bestTeamsByGroup['D'][0]\n",
    "team2D = bestTeamsByGroup['D'][1]\n",
    "team1E = bestTeamsByGroup['E'][0]\n",
    "team2E = bestTeamsByGroup['E'][1]\n",
    "team1F = bestTeamsByGroup['F'][0]\n",
    "team2F = bestTeamsByGroup['F'][1]\n",
    "team1G = bestTeamsByGroup['G'][0]\n",
    "team2G = bestTeamsByGroup['G'][1]\n",
    "team1H = bestTeamsByGroup['H'][0]\n",
    "team2H = bestTeamsByGroup['H'][1]\n",
    "\n",
    "\n",
    "# Set the qualifiers for the quarterfinals in new variables:\n",
    "\n",
    "quarter1 = team1A if team1A.motivate() > team2B.motivate() else team2B\n",
    "quarter2 = team1C if team1C.motivate() > team2D.motivate() else team2D\n",
    "quarter3 = team1E if team1E.motivate() > team2F.motivate() else team2F\n",
    "quarter4 = team1G if team1G.motivate() > team2H.motivate() else team2H\n",
    "quarter5 = team1B if team1B.motivate() > team2A.motivate() else team2A\n",
    "quarter6 = team1D if team1D.motivate() > team2C.motivate() else team2C\n",
    "quarter7 = team1F if team1F.motivate() > team2E.motivate() else team2E\n",
    "quarter8 = team1H if team1H.motivate() > team2G.motivate() else team2G\n",
    "\n",
    "print('{} ({:.2f}) x {} ({:.2f})'.format(team1A.name, team1A.lastMotivation, team2B.name, team2B.lastMotivation))\n",
    "print('{} ({:.2f}) x {} ({:.2f})'.format(team1C.name, team1C.lastMotivation, team2D.name, team2D.lastMotivation))\n",
    "print('{} ({:.2f}) x {} ({:.2f})'.format(team1E.name, team1E.lastMotivation, team2F.name, team2F.lastMotivation))\n",
    "print('{} ({:.2f}) x {} ({:.2f})'.format(team1G.name, team1G.lastMotivation, team2H.name, team2H.lastMotivation))\n",
    "print('{} ({:.2f}) x {} ({:.2f})'.format(team1B.name, team1B.lastMotivation, team2A.name, team2A.lastMotivation))\n",
    "print('{} ({:.2f}) x {} ({:.2f})'.format(team1D.name, team1D.lastMotivation, team2C.name, team2C.lastMotivation))\n",
    "print('{} ({:.2f}) x {} ({:.2f})'.format(team1F.name, team1F.lastMotivation, team2E.name, team2E.lastMotivation))\n",
    "print('{} ({:.2f}) x {} ({:.2f})'.format(team1H.name, team1H.lastMotivation, team2G.name, team2G.lastMotivation))\n"
   ]
  },
  {
   "cell_type": "markdown",
   "id": "bbd95935",
   "metadata": {},
   "source": [
    "### Simulating the Quarter Finals (8 best selections)"
   ]
  },
  {
   "cell_type": "code",
   "execution_count": 7,
   "id": "df6350f9",
   "metadata": {},
   "outputs": [
    {
     "name": "stdout",
     "output_type": "stream",
     "text": [
      "SEN (76.64) x MEX (89.39)\n",
      "MAR (77.13) x BRA (74.05)\n",
      "ING (93.31) x FRA (83.50)\n",
      "BEL (94.80) x POR (85.00)\n"
     ]
    }
   ],
   "source": [
    "# Simulate the matches of the Quarter Finals (randomizing their respective motivations again).\n",
    "# Also define the qualifiers for the semifinals in new variables:\n",
    "\n",
    "semi1 = quarter1 if quarter1.motivate() > quarter2.motivate() else quarter2\n",
    "semi2 = quarter3 if quarter3.motivate() > quarter4.motivate() else quarter4\n",
    "semi3 = quarter5 if quarter5.motivate() > quarter6.motivate() else quarter6\n",
    "semi4 = quarter7 if quarter7.motivate() > quarter8.motivate() else quarter8\n",
    "\n",
    "\n",
    "# Print the \"results\" of the clashes held in the Quarter Finals:\n",
    "print('{} ({:.2f}) x {} ({:.2f})'.format(quarter1.name, quarter1.lastMotivation, quarter2.name, quarter2.lastMotivation))\n",
    "print('{} ({:.2f}) x {} ({:.2f})'.format(quarter3.name, quarter3.lastMotivation, quarter4.name, quarter4.lastMotivation))\n",
    "print('{} ({:.2f}) x {} ({:.2f})'.format(quarter5.name, quarter5.lastMotivation, quarter6.name, quarter6.lastMotivation))\n",
    "print('{} ({:.2f}) x {} ({:.2f})'.format(quarter7.name, quarter7.lastMotivation, quarter8.name, quarter8.lastMotivation))"
   ]
  },
  {
   "cell_type": "markdown",
   "id": "363a87a1",
   "metadata": {},
   "source": [
    "### Simulating the Semifinals (4 best selections)"
   ]
  },
  {
   "cell_type": "code",
   "execution_count": 8,
   "id": "51c4761a",
   "metadata": {},
   "outputs": [
    {
     "name": "stdout",
     "output_type": "stream",
     "text": [
      "MEX (83.95) x MAR (81.51)\n",
      "ING (92.16) x BEL (83.03)\n"
     ]
    }
   ],
   "source": [
    "# Simulate the semi-final matches (randomizing their respective motivations again).\n",
    "# Define the classifieds for the final and dispute of 3rd and 4th in new variables:\n",
    "\n",
    "final1 = semi1 if semi1.motivate() > semi2.motivate() else semi2\n",
    "third1 = semi1 if semi1.lastMotivation < semi2.lastMotivation else semi2\n",
    "\n",
    "final2 = None\n",
    "third2 = None\n",
    "if semi3.motivate() > semi4.motivate():\n",
    "  final2 = semi3\n",
    "  third2 = semi4\n",
    "else:\n",
    "  final2 = semi4\n",
    "  third2 = semi3\n",
    "    \n",
    "# Print the results of the clashes held in the Semifinals:\n",
    "print('{} ({:.2f}) x {} ({:.2f})'.format(semi1.name, semi1.lastMotivation, semi2.name, semi2.lastMotivation))\n",
    "print('{} ({:.2f}) x {} ({:.2f})'.format(semi3.name, semi3.lastMotivation, semi4.name, semi4.lastMotivation))"
   ]
  },
  {
   "cell_type": "markdown",
   "id": "7f4150e6",
   "metadata": {},
   "source": [
    "### Simulating the Final (2 best selections)"
   ]
  },
  {
   "cell_type": "code",
   "execution_count": 9,
   "id": "96e7f038",
   "metadata": {},
   "outputs": [
    {
     "name": "stdout",
     "output_type": "stream",
     "text": [
      "1º: ING (84.92)\n",
      "2º: MEX (82.26)\n",
      "3º: BEL (91.68)\n",
      "4º: MAR (80.54)\n"
     ]
    }
   ],
   "source": [
    "# Simulate Finals clashes (again randomizing their respective motivations).\n",
    "# Define the top 4 places of the 2022 World Cup:\n",
    "\n",
    "winner = final1 if final1.motivate() > final2.motivate() else final2\n",
    "second = final1 if final1.lastMotivation < final2.lastMotivation else final2\n",
    "third = third1 if third1.motivate() > third2.motivate() else third2\n",
    "fourth = third1 if third1.lastMotivation < third2.lastMotivation else third2\n",
    "\n",
    "# Print the results of the clashes:\n",
    "\n",
    "print('1º: {} ({:.2f})'.format(winner.name, winner.lastMotivation))\n",
    "print('2º: {} ({:.2f})'.format(second.name, second.lastMotivation))\n",
    "print('3º: {} ({:.2f})'.format(third.name, third.lastMotivation))\n",
    "print('4º: {} ({:.2f})'.format(fourth.name, fourth.lastMotivation))"
   ]
  }
 ],
 "metadata": {
  "kernelspec": {
   "display_name": "Python 3 (ipykernel)",
   "language": "python",
   "name": "python3"
  },
  "language_info": {
   "codemirror_mode": {
    "name": "ipython",
    "version": 3
   },
   "file_extension": ".py",
   "mimetype": "text/x-python",
   "name": "python",
   "nbconvert_exporter": "python",
   "pygments_lexer": "ipython3",
   "version": "3.9.12"
  }
 },
 "nbformat": 4,
 "nbformat_minor": 5
}
